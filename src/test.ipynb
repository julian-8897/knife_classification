{
 "cells": [
  {
   "cell_type": "code",
   "execution_count": 2,
   "metadata": {},
   "outputs": [
    {
     "name": "stdout",
     "output_type": "stream",
     "text": [
      "CUDA is available\n"
     ]
    }
   ],
   "source": [
    "import torch\n",
    "import sklearn\n",
    "\n",
    "if torch.cuda.is_available():\n",
    "    print(\"CUDA is available\")\n",
    "else:\n",
    "    print(\"CUDA is not available\")\n",
    "\n"
   ]
  },
  {
   "cell_type": "code",
   "execution_count": 5,
   "metadata": {},
   "outputs": [
    {
     "name": "stdout",
     "output_type": "stream",
     "text": [
      "\n",
      "DenseNet Model Summary:\n",
      "=================================================================\n",
      "Layer (type:depth-idx)                   Param #\n",
      "=================================================================\n",
      "├─DenseNet: 1-1                          --\n",
      "|    └─Sequential: 2-1                   --\n",
      "|    |    └─Conv2d: 3-1                  (9,408)\n",
      "|    |    └─BatchNorm2d: 3-2             (128)\n",
      "|    |    └─ReLU: 3-3                    --\n",
      "|    |    └─MaxPool2d: 3-4               --\n",
      "|    |    └─_DenseBlock: 3-5             (335,040)\n",
      "|    |    └─_Transition: 3-6             (33,280)\n",
      "|    |    └─_DenseBlock: 3-7             (919,680)\n",
      "|    |    └─_Transition: 3-8             (132,096)\n",
      "|    |    └─_DenseBlock: 3-9             (2,837,760)\n",
      "|    |    └─_Transition: 3-10            (526,336)\n",
      "|    |    └─_DenseBlock: 3-11            (2,158,080)\n",
      "|    |    └─BatchNorm2d: 3-12            (2,048)\n",
      "|    └─Linear: 2-2                       1,049,600\n",
      "├─Linear: 1-2                            10,250\n",
      "=================================================================\n",
      "Total params: 8,013,706\n",
      "Trainable params: 1,059,850\n",
      "Non-trainable params: 6,953,856\n",
      "=================================================================\n"
     ]
    },
    {
     "data": {
      "text/plain": [
       "=================================================================\n",
       "Layer (type:depth-idx)                   Param #\n",
       "=================================================================\n",
       "├─DenseNet: 1-1                          --\n",
       "|    └─Sequential: 2-1                   --\n",
       "|    |    └─Conv2d: 3-1                  (9,408)\n",
       "|    |    └─BatchNorm2d: 3-2             (128)\n",
       "|    |    └─ReLU: 3-3                    --\n",
       "|    |    └─MaxPool2d: 3-4               --\n",
       "|    |    └─_DenseBlock: 3-5             (335,040)\n",
       "|    |    └─_Transition: 3-6             (33,280)\n",
       "|    |    └─_DenseBlock: 3-7             (919,680)\n",
       "|    |    └─_Transition: 3-8             (132,096)\n",
       "|    |    └─_DenseBlock: 3-9             (2,837,760)\n",
       "|    |    └─_Transition: 3-10            (526,336)\n",
       "|    |    └─_DenseBlock: 3-11            (2,158,080)\n",
       "|    |    └─BatchNorm2d: 3-12            (2,048)\n",
       "|    └─Linear: 2-2                       1,049,600\n",
       "├─Linear: 1-2                            10,250\n",
       "=================================================================\n",
       "Total params: 8,013,706\n",
       "Trainable params: 1,059,850\n",
       "Non-trainable params: 6,953,856\n",
       "================================================================="
      ]
     },
     "execution_count": 5,
     "metadata": {},
     "output_type": "execute_result"
    }
   ],
   "source": [
    "from model import FineTunedResNetV1, FineTunedDenseNet\n",
    "\n",
    "from torchsummary import summary\n",
    "\n",
    "# Assuming your model is on the same device as your input\n",
    "device = torch.device(\"cuda\" if torch.cuda.is_available() else \"cpu\")\n",
    "\n",
    "# Create an instance of the model\n",
    "# model_resnet = FineTunedResNetV1(num_classes=10).to(device)\n",
    "model_densenet = FineTunedDenseNet(num_classes=10).to(device)\n",
    "\n",
    "# # Print the summary\n",
    "# print(\"ResNet Model Summary:\")\n",
    "# summary(model_resnet, input_size=(3, 224, 224))\n",
    "\n",
    "print(\"\\nDenseNet Model Summary:\")\n",
    "summary(model_densenet, input_size=(3, 224, 224))"
   ]
  }
 ],
 "metadata": {
  "kernelspec": {
   "display_name": "base",
   "language": "python",
   "name": "python3"
  },
  "language_info": {
   "codemirror_mode": {
    "name": "ipython",
    "version": 3
   },
   "file_extension": ".py",
   "mimetype": "text/x-python",
   "name": "python",
   "nbconvert_exporter": "python",
   "pygments_lexer": "ipython3",
   "version": "3.11.4"
  }
 },
 "nbformat": 4,
 "nbformat_minor": 2
}
